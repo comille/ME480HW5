{
 "cells": [
  {
   "cell_type": "code",
   "execution_count": 48,
   "metadata": {},
   "outputs": [],
   "source": [
    "from solid import *\n",
    "from solid.utils import *\n",
    "import viewscad\n",
    "\n",
    "r = viewscad.Renderer(openscad_exec='C:\\Program Files\\OpenSCAD\\openscad.exe')"
   ]
  },
  {
   "cell_type": "code",
   "execution_count": 1,
   "metadata": {},
   "outputs": [
    {
     "ename": "NameError",
     "evalue": "name 'cylinder' is not defined",
     "output_type": "error",
     "traceback": [
      "\u001b[1;31m---------------------------------------------------------------------------\u001b[0m",
      "\u001b[1;31mNameError\u001b[0m                                 Traceback (most recent call last)",
      "\u001b[1;32m<ipython-input-1-9664be32d2ac>\u001b[0m in \u001b[0;36m<module>\u001b[1;34m\u001b[0m\n\u001b[1;32m----> 1\u001b[1;33m \u001b[0mc1\u001b[0m \u001b[1;33m=\u001b[0m \u001b[0mcylinder\u001b[0m\u001b[1;33m(\u001b[0m\u001b[0mr\u001b[0m\u001b[1;33m=\u001b[0m\u001b[1;36m5\u001b[0m\u001b[1;33m,\u001b[0m\u001b[0mh\u001b[0m\u001b[1;33m=\u001b[0m\u001b[1;36m5\u001b[0m\u001b[1;33m)\u001b[0m\u001b[1;33m\u001b[0m\u001b[1;33m\u001b[0m\u001b[0m\n\u001b[0m\u001b[0;32m      2\u001b[0m \u001b[0mc2\u001b[0m \u001b[1;33m=\u001b[0m \u001b[0mcylinder\u001b[0m\u001b[1;33m(\u001b[0m\u001b[0mr\u001b[0m\u001b[1;33m=\u001b[0m\u001b[1;36m2.5\u001b[0m\u001b[1;33m,\u001b[0m\u001b[0mh\u001b[0m\u001b[1;33m=\u001b[0m\u001b[1;36m5\u001b[0m\u001b[1;33m)\u001b[0m\u001b[1;33m\u001b[0m\u001b[1;33m\u001b[0m\u001b[0m\n\u001b[0;32m      3\u001b[0m \u001b[0mc3\u001b[0m \u001b[1;33m=\u001b[0m \u001b[0mc1\u001b[0m\u001b[1;33m-\u001b[0m\u001b[0mc2\u001b[0m\u001b[1;33m\u001b[0m\u001b[1;33m\u001b[0m\u001b[0m\n\u001b[0;32m      4\u001b[0m \u001b[0mr\u001b[0m\u001b[1;33m.\u001b[0m\u001b[0mrender\u001b[0m\u001b[1;33m(\u001b[0m\u001b[0mc3\u001b[0m\u001b[1;33m)\u001b[0m\u001b[1;33m\u001b[0m\u001b[1;33m\u001b[0m\u001b[0m\n",
      "\u001b[1;31mNameError\u001b[0m: name 'cylinder' is not defined"
     ]
    }
   ],
   "source": [
    "c1 = cylinder(r=10,h=5)\n",
    "c2 = cylinder(r=5,h=5)\n",
    "c3 = c1-c2\n",
    "r.render(c3)"
   ]
  },
  {
   "cell_type": "code",
   "execution_count": 13,
   "metadata": {
    "scrolled": false
   },
   "outputs": [
    {
     "data": {
      "application/vnd.jupyter.widget-view+json": {
       "model_id": "95de81d016c0461a87c10b6763a78480",
       "version_major": 2,
       "version_minor": 0
      },
      "text/plain": [
       "VBox(children=(HTML(value=''), Renderer(background='#cccc88', background_opacity=0.0, camera=PerspectiveCamera…"
      ]
     },
     "metadata": {},
     "output_type": "display_data"
    }
   ],
   "source": [
    "def donut(r_lg,r_sm):\n",
    "    if r_lg<r_sm or r_lg<0 or r_sm<0:\n",
    "        print('large diameter first, positive values only')\n",
    "    else:\n",
    "        c1 = cylinder(r=r_lg,h=5)\n",
    "        c2 = cylinder(r=r_sm,h=5)\n",
    "        c3 = c1-c2\n",
    "        r.render(c3)\n",
    "    \n",
    "donut(7,3)"
   ]
  },
  {
   "cell_type": "code",
   "execution_count": 61,
   "metadata": {},
   "outputs": [
    {
     "data": {
      "application/vnd.jupyter.widget-view+json": {
       "model_id": "6b3eda5d28214decad2388d4c86a5803",
       "version_major": 2,
       "version_minor": 0
      },
      "text/plain": [
       "VBox(children=(HTML(value=''), Renderer(background='#cccc88', background_opacity=0.0, camera=PerspectiveCamera…"
      ]
     },
     "metadata": {},
     "output_type": "display_data"
    }
   ],
   "source": [
    "d = [1,2,3,4]\n",
    "t = .5\n",
    "def overlapcylinders(d,t):    \n",
    "    c1=cylinder(r=d[0]/2+t,h=1)\n",
    "    c2=cylinder(r=d[0]/2,h=1)\n",
    "    final=c1-c2\n",
    "    sep=0\n",
    "    for i in range(1,len(d)):\n",
    "        r1=d[i]/2+t\n",
    "        r2=d[i]/2\n",
    "        c1=cylinder(r=r1,h=1)\n",
    "        c2=cylinder(r=r2,h=1)\n",
    "        c3 = c1-c2\n",
    "        sep=sep+d[i-1]/2+(d[i]/2)+3/2*t\n",
    "        c = translate([0,sep,0])(c3)\n",
    "        final= final+c\n",
    "    r.render(final)\n",
    "overlapcylinders(d,t)    "
   ]
  },
  {
   "cell_type": "code",
   "execution_count": null,
   "metadata": {},
   "outputs": [],
   "source": [
    "d=[2,1,5]\n",
    "s=4\n",
    "h=5\n",
    "def cylpost(d,s,h):\n",
    "    post = cylinder(r=d[0]/2,h=h)\n",
    "    sep=0\n",
    "    for i in range(1,len(d)):\n",
    "        c = cylinder(r=d[i]/2,h=h)\n",
    "        sep = sep+s\n",
    "        newc = translate([0,sep,0])(c)\n",
    "        post= post+newc\n",
    "    c1 = cylinder(r=d[0]/2+1,h=1)\n",
    "    c2 = translate([0,s*(len(d)-1),0])(cylinder(r=d[-1]/2+1,h=1))\n",
    "    post=post+hull()(c1,c2)\n",
    "    r.render(post)\n",
    "cylpost(d,s,h)"
   ]
  }
 ],
 "metadata": {
  "kernelspec": {
   "display_name": "Python 3",
   "language": "python",
   "name": "python3"
  },
  "language_info": {
   "codemirror_mode": {
    "name": "ipython",
    "version": 3
   },
   "file_extension": ".py",
   "mimetype": "text/x-python",
   "name": "python",
   "nbconvert_exporter": "python",
   "pygments_lexer": "ipython3",
   "version": "3.7.3"
  }
 },
 "nbformat": 4,
 "nbformat_minor": 2
}
