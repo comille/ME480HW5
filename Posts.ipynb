{
 "cells": [
  {
   "cell_type": "code",
   "execution_count": 1,
   "metadata": {},
   "outputs": [],
   "source": [
    "from solid import *\n",
    "from solid.utils import *\n",
    "import viewscad\n",
    "\n",
    "r = viewscad.Renderer(openscad_exec='C:\\Program Files\\OpenSCAD\\openscad.exe')"
   ]
  },
  {
   "cell_type": "code",
   "execution_count": null,
   "metadata": {
    "scrolled": true
   },
   "outputs": [],
   "source": [
    "c1 = cylinder(r=10,h=5)\n",
    "c2 = cylinder(r=5,h=5)\n",
    "c3 = c1-c2\n",
    "r.render(c3)"
   ]
  },
  {
   "cell_type": "code",
   "execution_count": null,
   "metadata": {},
   "outputs": [],
   "source": [
    "def donut(r_lg,r_sm):\n",
    "    if r_lg<r_sm or r_lg<0 or r_sm<0:\n",
    "        print('large diameter first, positive values only')\n",
    "    else:\n",
    "        c1 = cylinder(r=r_lg,h=5)\n",
    "        c2 = cylinder(r=r_sm,h=5)\n",
    "        c3 = c1-c2\n",
    "        r.render(c3)    \n",
    "donut(7,3)"
   ]
  },
  {
   "cell_type": "code",
   "execution_count": null,
   "metadata": {},
   "outputs": [],
   "source": [
    "d = [1,2,3,4]\n",
    "t = .5\n",
    "def overlapcylinders(d,t):    \n",
    "    c1=cylinder(r=d[0]/2+t,h=1)\n",
    "    c2=cylinder(r=d[0]/2,h=1)\n",
    "    final=c1-c2\n",
    "    sep=0\n",
    "    for i in range(1,len(d)):\n",
    "        r1=d[i]/2+t\n",
    "        r2=d[i]/2\n",
    "        c1=cylinder(r=r1,h=1)\n",
    "        c2=cylinder(r=r2,h=1)\n",
    "        c3 = c1-c2\n",
    "        sep=sep+d[i-1]/2+(d[i]/2)+3/2*t\n",
    "        c = translate([0,sep,0])(c3)\n",
    "        final= final+c\n",
    "    r.render(final)\n",
    "overlapcylinders(d,t) "
   ]
  },
  {
   "cell_type": "code",
   "execution_count": 3,
   "metadata": {
    "scrolled": true
   },
   "outputs": [
    {
     "data": {
      "application/vnd.jupyter.widget-view+json": {
       "model_id": "b2e88d09e7094a8583ef854f377d502f",
       "version_major": 2,
       "version_minor": 0
      },
      "text/plain": [
       "VBox(children=(HTML(value=''), Renderer(background='#cccc88', background_opacity=0.0, camera=PerspectiveCamera…"
      ]
     },
     "metadata": {},
     "output_type": "display_data"
    }
   ],
   "source": [
    "d=[2,1,5]\n",
    "s=4\n",
    "h=5\n",
    "def cylpost(d,s,h):\n",
    "    post = cylinder(r=d[0]/2,h=h)\n",
    "    sep=0\n",
    "    for i in range(1,len(d)):\n",
    "        c = cylinder(r=d[i]/2,h=h)\n",
    "        sep = sep+s\n",
    "        newc = translate([0,sep,0])(c)\n",
    "        post= post+newc\n",
    "    c1 = cylinder(r=d[0]/2+1,h=1)\n",
    "    c2 = translate([0,s*(len(d)-1),0])(cylinder(r=d[-1]/2+1,h=1))\n",
    "    post=post+hull()(c1,c2)\n",
    "    r.render(post)\n",
    "cylpost(d,s,h)"
   ]
  },
  {
   "cell_type": "code",
   "execution_count": null,
   "metadata": {},
   "outputs": [],
   "source": []
  }
 ],
 "metadata": {
  "kernelspec": {
   "display_name": "Python 3",
   "language": "python",
   "name": "python3"
  },
  "language_info": {
   "codemirror_mode": {
    "name": "ipython",
    "version": 3
   },
   "file_extension": ".py",
   "mimetype": "text/x-python",
   "name": "python",
   "nbconvert_exporter": "python",
   "pygments_lexer": "ipython3",
   "version": "3.7.3"
  }
 },
 "nbformat": 4,
 "nbformat_minor": 2
}
