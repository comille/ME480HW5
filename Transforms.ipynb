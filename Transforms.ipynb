{
 "cells": [
  {
   "cell_type": "code",
   "execution_count": 10,
   "metadata": {},
   "outputs": [],
   "source": [
    "from solid import *\n",
    "from solid.utils import *\n",
    "import viewscad\n",
    "from math import *\n",
    "\n",
    "r = viewscad.Renderer(openscad_exec='C:\\Program Files\\OpenSCAD\\openscad.exe')"
   ]
  },
  {
   "cell_type": "code",
   "execution_count": 21,
   "metadata": {},
   "outputs": [
    {
     "data": {
      "application/vnd.jupyter.widget-view+json": {
       "model_id": "947e664fd7b143c6b2744c5f2b5d248a",
       "version_major": 2,
       "version_minor": 0
      },
      "text/plain": [
       "VBox(children=(HTML(value=''), Renderer(background='#cccc88', background_opacity=0.0, camera=PerspectiveCamera…"
      ]
     },
     "metadata": {},
     "output_type": "display_data"
    }
   ],
   "source": [
    "unit=cube(1)\n",
    "unit = translate([-0.5,-0.5,-0.5])(unit)\n",
    "rotz=[cos(pi/9),-sin(pi/9),0,0],[sin(pi/9),cos(pi/9),0,0],[0,0,1,0],[0,0,0,1]\n",
    "rotx=[1,0,0,0],[0,cos(pi/18),-sin(pi/18),0],[0,sin(pi/18),cos(pi/18),0],[0,0,0,1]\n",
    "rotzprime=[cos(pi/6),-sin(pi/6),0,0],[sin(pi/6),cos(pi/6),0,0],[0,0,1,0],[0,0,0,1]\n",
    "final=multmatrix(rotz)(unit)\n",
    "final=multmatrix(rotx)(final)\n",
    "final=multmatrix(rotzprime)(final)\n",
    "r.render(final)"
   ]
  },
  {
   "cell_type": "code",
   "execution_count": 23,
   "metadata": {},
   "outputs": [
    {
     "data": {
      "application/vnd.jupyter.widget-view+json": {
       "model_id": "2cb2b09b35eb4bfaaea1c73a47a792f5",
       "version_major": 2,
       "version_minor": 0
      },
      "text/plain": [
       "VBox(children=(HTML(value=''), Renderer(background='#cccc88', background_opacity=0.0, camera=PerspectiveCamera…"
      ]
     },
     "metadata": {},
     "output_type": "display_data"
    }
   ],
   "source": [
    "unit=cube(1)\n",
    "unit = translate([-0.5,-0.5,-0.5])(unit)\n",
    "unit = translate([5,5,0])(unit)\n",
    "rotz=[cos(pi/9),-sin(pi/9),0,0],[sin(pi/9),cos(pi/9),0,0],[0,0,1,0],[0,0,0,1]\n",
    "rotx=[1,0,0,0],[0,cos(pi/18),-sin(pi/18),0],[0,sin(pi/18),cos(pi/18),0],[0,0,0,1]\n",
    "rotzprime=[cos(pi/6),-sin(pi/6),0,0],[sin(pi/6),cos(pi/6),0,0],[0,0,1,0],[0,0,0,1]\n",
    "final=multmatrix(rotz)(unit)\n",
    "final=multmatrix(rotx)(final)\n",
    "final=multmatrix(rotzprime)(final)\n",
    "final= translate([-5,-5,0])(final)\n",
    "r.render(final)"
   ]
  },
  {
   "cell_type": "code",
   "execution_count": 24,
   "metadata": {},
   "outputs": [
    {
     "data": {
      "application/vnd.jupyter.widget-view+json": {
       "model_id": "0a0ad90550114fd1b19350d50d683a39",
       "version_major": 2,
       "version_minor": 0
      },
      "text/plain": [
       "VBox(children=(HTML(value=''), Renderer(background='#cccc88', background_opacity=0.0, camera=PerspectiveCamera…"
      ]
     },
     "metadata": {},
     "output_type": "display_data"
    },
    {
     "data": {
      "application/vnd.jupyter.widget-view+json": {
       "model_id": "bf79956d7e194f4d8bd0a4fd1837d158",
       "version_major": 2,
       "version_minor": 0
      },
      "text/plain": [
       "VBox(children=(HTML(value=''), Renderer(background='#cccc88', background_opacity=0.0, camera=PerspectiveCamera…"
      ]
     },
     "metadata": {},
     "output_type": "display_data"
    },
    {
     "data": {
      "application/vnd.jupyter.widget-view+json": {
       "model_id": "764aeb4b514f4ed7aa5491ca8ae9a985",
       "version_major": 2,
       "version_minor": 0
      },
      "text/plain": [
       "VBox(children=(HTML(value=''), Renderer(background='#cccc88', background_opacity=0.0, camera=PerspectiveCamera…"
      ]
     },
     "metadata": {},
     "output_type": "display_data"
    }
   ],
   "source": [
    "unit=cube(1)\n",
    "Sx=[1, 0.5, 0, 0],[0, 1, 0, 0],[0, 0, 1, 0],[0, 0, 0, 1]\n",
    "final = multmatrix(Sx)(unit)\n",
    "r.render(final)\n",
    "Sy= [1, 0.5, 0, 0],[0, 1, 0, 0],[0, 0, 1, 0],[0, 0, 0, 1]\n",
    "final = multmatrix(Sy)(final)\n",
    "r.render(final)\n",
    "Sz=[1, 0, 0, 0],[0, 1, 0, 0],[0, 0.5, 1, 0],[0, 0, 0, 1]\n",
    "final = multmatrix(Sz)(final)\n",
    "r.render(final)"
   ]
  },
  {
   "cell_type": "code",
   "execution_count": null,
   "metadata": {},
   "outputs": [],
   "source": []
  }
 ],
 "metadata": {
  "kernelspec": {
   "display_name": "Python 3",
   "language": "python",
   "name": "python3"
  },
  "language_info": {
   "codemirror_mode": {
    "name": "ipython",
    "version": 3
   },
   "file_extension": ".py",
   "mimetype": "text/x-python",
   "name": "python",
   "nbconvert_exporter": "python",
   "pygments_lexer": "ipython3",
   "version": "3.7.3"
  }
 },
 "nbformat": 4,
 "nbformat_minor": 2
}
