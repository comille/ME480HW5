{
 "cells": [
  {
   "cell_type": "code",
   "execution_count": 4,
   "metadata": {},
   "outputs": [],
   "source": [
    "from solid import *\n",
    "from solid.utils import *\n",
    "import viewscad\n",
    "\n",
    "r = viewscad.Renderer(openscad_exec='C:\\Program Files\\OpenSCAD\\openscad.exe')"
   ]
  },
  {
   "cell_type": "code",
   "execution_count": 3,
   "metadata": {},
   "outputs": [
    {
     "data": {
      "application/vnd.jupyter.widget-view+json": {
       "model_id": "32440e51301e4978b5b1422aef45d09c",
       "version_major": 2,
       "version_minor": 0
      },
      "text/plain": [
       "VBox(children=(HTML(value=''), Renderer(background='#cccc88', background_opacity=0.0, camera=PerspectiveCamera…"
      ]
     },
     "metadata": {},
     "output_type": "display_data"
    }
   ],
   "source": [
    "l=5\n",
    "w=1\n",
    "def legobeam(l,w):\n",
    "    s=8\n",
    "    rad=2.7\n",
    "    h=7.9\n",
    "    c = cylinder(r=rad,h=h)\n",
    "    hole = c\n",
    "    sep=0\n",
    "\n",
    "    for i in range(1,l):\n",
    "        sep = sep+s\n",
    "        newhole = translate([0,sep,0])(c)\n",
    "        hole = hole + newhole\n",
    "    c1 = cylinder(r=rad+1,h=h)\n",
    "    c2 = translate([0,s*(l-1),0])(c1)\n",
    "    if w != 1:\n",
    "        sep=0\n",
    "        for i in range(1,w):\n",
    "            sep = sep+s\n",
    "            newhole = translate([sep,0,0])(hole)\n",
    "            hole = hole + newhole\n",
    "        c3 = translate([s*(w-1),0,0])(c1)\n",
    "        c4 = translate([s*(w-1),s*(l-1),0])(c1)\n",
    "        base = hull()(c1,c2,c3,c4)\n",
    "    else:\n",
    "        base = hull()(c1,c2)\n",
    "    beam = base-hole\n",
    "    #print(scad_render(beam))\n",
    "    r.render(beam)\n",
    "legobeam(l,w)"
   ]
  },
  {
   "cell_type": "code",
   "execution_count": 5,
   "metadata": {},
   "outputs": [
    {
     "data": {
      "application/vnd.jupyter.widget-view+json": {
       "model_id": "00a57285d87b47818870eeff2aeb5b03",
       "version_major": 2,
       "version_minor": 0
      },
      "text/plain": [
       "VBox(children=(HTML(value=''), Renderer(background='#cccc88', background_opacity=0.0, camera=PerspectiveCamera…"
      ]
     },
     "metadata": {},
     "output_type": "display_data"
    }
   ],
   "source": [
    "def stepper(standard):\n",
    "    if standard == 8:\n",
    "        boltdi=3\n",
    "        distance=16\n",
    "        pilot=15    \n",
    "    elif standard == 11:\n",
    "        boltdi=4\n",
    "        distance=23\n",
    "        pilot=22\n",
    "    elif standard == 14:\n",
    "        boltdi=4\n",
    "        distance=26\n",
    "        pilot=22\n",
    "    elif standard == 17:\n",
    "        boltdi=3.1\n",
    "        distance=31\n",
    "        pilot=22\n",
    "    elif standard == 23:\n",
    "        boltdi=5\n",
    "        distance=47.14\n",
    "        pilot=38.1\n",
    "    elif standard == 34:\n",
    "        boltdi=5.5\n",
    "        distance=69.7\n",
    "        pilot=73\n",
    "    elif standard == 42:\n",
    "        boltdi=7.14\n",
    "        distance=88.9\n",
    "        pilot=55.52\n",
    "    #mount holes\n",
    "    pilot=cylinder(r=pilot/2, h=7)\n",
    "    hole=cylinder(r=boltdi/2, h=7)\n",
    "    hole1=translate([distance/2,distance/2])(hole)\n",
    "    hole2=translate([-distance/2,distance/2])(hole)\n",
    "    hole3=translate([distance/2,-distance/2])(hole)\n",
    "    hole4=translate([-distance/2,-distance/2])(hole)\n",
    "    \n",
    "    #lego mounts\n",
    "    angle = 270\n",
    "    axis = [0,1,0]\n",
    "    x = rotate(angle,axis)\n",
    "    lego1=cylinder(r=2.7,h=8)\n",
    "    lego1=rotate(angle,axis)(lego1)\n",
    "    lego1=translate([0,3,3.5])(lego1)\n",
    "    \n",
    "    if standard ==8:\n",
    "        sep=0\n",
    "        for i in range(0,1):\n",
    "            sep=sep+8\n",
    "            new = translate([0,sep,0])(lego1)\n",
    "            lego1 = lego1 + new\n",
    "    \n",
    "        lego2=translate([distance+2*boltdi+10,0,0])(lego1)\n",
    "    else:    \n",
    "        sep=0\n",
    "        for i in range(0,2):\n",
    "            sep=sep+8\n",
    "            new = translate([0,sep,0])(lego1)\n",
    "            lego1 = lego1 + new\n",
    "\n",
    "        lego2=translate([distance+2*boltdi+10,0,0])(lego1)\n",
    "    \n",
    "    #base\n",
    "    base=cube([distance+boltdi+5,distance+boltdi+5,7])\n",
    "    base=base+lego1+lego2\n",
    "    base=translate([-(distance+boltdi+5)/2,-(distance+boltdi+5)/2,0])(base)\n",
    "    \n",
    "    final = base-pilot-hole1-hole2-hole3-hole4\n",
    "    r.render(final)\n",
    "stepper(17)"
   ]
  },
  {
   "cell_type": "code",
   "execution_count": null,
   "metadata": {},
   "outputs": [],
   "source": [
    "s=.65\n",
    "def shaft(d):\n",
    "    a=cylinder(r=d/2+0.2,h=10)\n",
    "    b=cylinder(r=d/2+3,h=15)\n",
    "    c=cylinder(r=2.5,h=10)\n",
    "    s1=translate([s,s,3])(cube([2.05,2.05,10]))\n",
    "    s2=translate([-2.05-s,s,3])(cube([2.05,2.05,10]))\n",
    "    s3=translate([s,-2.05-s,3])(cube([2.05,2.05,10]))\n",
    "    s4=translate([-2.05-s,-2.05-s,3])(cube([2.05,2.05,10]))\n",
    "    d=c-s1-s2-s3-s4\n",
    "    e=translate([0,0,15])(d)\n",
    "    final=(b-a)+e\n",
    "    #print(scad_render(final))\n",
    "    r.render(final) \n",
    "shaft(5)"
   ]
  }
 ],
 "metadata": {
  "kernelspec": {
   "display_name": "Python 3",
   "language": "python",
   "name": "python3"
  },
  "language_info": {
   "codemirror_mode": {
    "name": "ipython",
    "version": 3
   },
   "file_extension": ".py",
   "mimetype": "text/x-python",
   "name": "python",
   "nbconvert_exporter": "python",
   "pygments_lexer": "ipython3",
   "version": "3.7.3"
  }
 },
 "nbformat": 4,
 "nbformat_minor": 2
}
